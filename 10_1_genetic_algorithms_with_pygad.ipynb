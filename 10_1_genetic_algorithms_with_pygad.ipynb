{
  "cells": [
    {
      "cell_type": "markdown",
      "metadata": {
        "id": "view-in-github",
        "colab_type": "text"
      },
      "source": [
        "<a href=\"https://colab.research.google.com/github/MJMortensonWarwick/AAMA2425/blob/main/10_1_genetic_algorithms_with_pygad.ipynb\" target=\"_parent\"><img src=\"https://colab.research.google.com/assets/colab-badge.svg\" alt=\"Open In Colab\"/></a>"
      ]
    },
    {
      "cell_type": "markdown",
      "source": [
        "# Genetic Algorithms with PyGAD\n",
        "This tutorial, heavily inspired by the GARI repository, will use Genetic Algorithms (GA) to recreate a picture of our friend and hero Dr Vinh Doan.\n",
        "\n",
        "To begin we will install the library:"
      ],
      "metadata": {
        "id": "7quyKzkgb4BZ"
      }
    },
    {
      "cell_type": "code",
      "execution_count": null,
      "metadata": {
        "colab": {
          "base_uri": "https://localhost:8080/"
        },
        "id": "ASsVghXWRw8o",
        "outputId": "be023828-d7dc-49f2-b835-a5f5486c38d1"
      },
      "outputs": [
        {
          "output_type": "stream",
          "name": "stdout",
          "text": [
            "Collecting pygad\n",
            "  Downloading pygad-3.4.0-py3-none-any.whl.metadata (23 kB)\n",
            "Requirement already satisfied: cloudpickle in /usr/local/lib/python3.11/dist-packages (from pygad) (3.1.1)\n",
            "Requirement already satisfied: matplotlib in /usr/local/lib/python3.11/dist-packages (from pygad) (3.10.0)\n",
            "Requirement already satisfied: numpy in /usr/local/lib/python3.11/dist-packages (from pygad) (1.26.4)\n",
            "Requirement already satisfied: contourpy>=1.0.1 in /usr/local/lib/python3.11/dist-packages (from matplotlib->pygad) (1.3.1)\n",
            "Requirement already satisfied: cycler>=0.10 in /usr/local/lib/python3.11/dist-packages (from matplotlib->pygad) (0.12.1)\n",
            "Requirement already satisfied: fonttools>=4.22.0 in /usr/local/lib/python3.11/dist-packages (from matplotlib->pygad) (4.56.0)\n",
            "Requirement already satisfied: kiwisolver>=1.3.1 in /usr/local/lib/python3.11/dist-packages (from matplotlib->pygad) (1.4.8)\n",
            "Requirement already satisfied: packaging>=20.0 in /usr/local/lib/python3.11/dist-packages (from matplotlib->pygad) (24.2)\n",
            "Requirement already satisfied: pillow>=8 in /usr/local/lib/python3.11/dist-packages (from matplotlib->pygad) (11.1.0)\n",
            "Requirement already satisfied: pyparsing>=2.3.1 in /usr/local/lib/python3.11/dist-packages (from matplotlib->pygad) (3.2.1)\n",
            "Requirement already satisfied: python-dateutil>=2.7 in /usr/local/lib/python3.11/dist-packages (from matplotlib->pygad) (2.8.2)\n",
            "Requirement already satisfied: six>=1.5 in /usr/local/lib/python3.11/dist-packages (from python-dateutil>=2.7->matplotlib->pygad) (1.17.0)\n",
            "Downloading pygad-3.4.0-py3-none-any.whl (86 kB)\n",
            "\u001b[?25l   \u001b[90m━━━━━━━━━━━━━━━━━━━━━━━━━━━━━━━━━━━━━━━━\u001b[0m \u001b[32m0.0/86.8 kB\u001b[0m \u001b[31m?\u001b[0m eta \u001b[36m-:--:--\u001b[0m\r\u001b[2K   \u001b[90m━━━━━━━━━━━━━━━━━━━━━━━━━━━━━━━━━━━━━━━━\u001b[0m \u001b[32m86.8/86.8 kB\u001b[0m \u001b[31m6.2 MB/s\u001b[0m eta \u001b[36m0:00:00\u001b[0m\n",
            "\u001b[?25hInstalling collected packages: pygad\n",
            "Successfully installed pygad-3.4.0\n"
          ]
        }
      ],
      "source": [
        "!pip install pygad"
      ]
    },
    {
      "cell_type": "markdown",
      "source": [
        "Next, we will upload the image we want to recreate. The image (\"vinh.jpg\") is available on the [my.wbs](https://my.wbs.ac.uk/-/academic/318326/resources/in/1649576,1649572/item/1681937/#/) page for the module. Download the file to your machine and then click \"Choose Files\" to upload:"
      ],
      "metadata": {
        "id": "zASagPlacaF2"
      }
    },
    {
      "cell_type": "code",
      "execution_count": null,
      "metadata": {
        "colab": {
          "base_uri": "https://localhost:8080/",
          "height": 73
        },
        "id": "i7UcicjWR3kQ",
        "outputId": "a04fb3b7-8c08-4e0e-a384-9c537c033308"
      },
      "outputs": [
        {
          "output_type": "display_data",
          "data": {
            "text/plain": [
              "<IPython.core.display.HTML object>"
            ],
            "text/html": [
              "\n",
              "     <input type=\"file\" id=\"files-4519a198-737e-4595-9ad0-3c9c6b3da7bb\" name=\"files[]\" multiple disabled\n",
              "        style=\"border:none\" />\n",
              "     <output id=\"result-4519a198-737e-4595-9ad0-3c9c6b3da7bb\">\n",
              "      Upload widget is only available when the cell has been executed in the\n",
              "      current browser session. Please rerun this cell to enable.\n",
              "      </output>\n",
              "      <script>// Copyright 2017 Google LLC\n",
              "//\n",
              "// Licensed under the Apache License, Version 2.0 (the \"License\");\n",
              "// you may not use this file except in compliance with the License.\n",
              "// You may obtain a copy of the License at\n",
              "//\n",
              "//      http://www.apache.org/licenses/LICENSE-2.0\n",
              "//\n",
              "// Unless required by applicable law or agreed to in writing, software\n",
              "// distributed under the License is distributed on an \"AS IS\" BASIS,\n",
              "// WITHOUT WARRANTIES OR CONDITIONS OF ANY KIND, either express or implied.\n",
              "// See the License for the specific language governing permissions and\n",
              "// limitations under the License.\n",
              "\n",
              "/**\n",
              " * @fileoverview Helpers for google.colab Python module.\n",
              " */\n",
              "(function(scope) {\n",
              "function span(text, styleAttributes = {}) {\n",
              "  const element = document.createElement('span');\n",
              "  element.textContent = text;\n",
              "  for (const key of Object.keys(styleAttributes)) {\n",
              "    element.style[key] = styleAttributes[key];\n",
              "  }\n",
              "  return element;\n",
              "}\n",
              "\n",
              "// Max number of bytes which will be uploaded at a time.\n",
              "const MAX_PAYLOAD_SIZE = 100 * 1024;\n",
              "\n",
              "function _uploadFiles(inputId, outputId) {\n",
              "  const steps = uploadFilesStep(inputId, outputId);\n",
              "  const outputElement = document.getElementById(outputId);\n",
              "  // Cache steps on the outputElement to make it available for the next call\n",
              "  // to uploadFilesContinue from Python.\n",
              "  outputElement.steps = steps;\n",
              "\n",
              "  return _uploadFilesContinue(outputId);\n",
              "}\n",
              "\n",
              "// This is roughly an async generator (not supported in the browser yet),\n",
              "// where there are multiple asynchronous steps and the Python side is going\n",
              "// to poll for completion of each step.\n",
              "// This uses a Promise to block the python side on completion of each step,\n",
              "// then passes the result of the previous step as the input to the next step.\n",
              "function _uploadFilesContinue(outputId) {\n",
              "  const outputElement = document.getElementById(outputId);\n",
              "  const steps = outputElement.steps;\n",
              "\n",
              "  const next = steps.next(outputElement.lastPromiseValue);\n",
              "  return Promise.resolve(next.value.promise).then((value) => {\n",
              "    // Cache the last promise value to make it available to the next\n",
              "    // step of the generator.\n",
              "    outputElement.lastPromiseValue = value;\n",
              "    return next.value.response;\n",
              "  });\n",
              "}\n",
              "\n",
              "/**\n",
              " * Generator function which is called between each async step of the upload\n",
              " * process.\n",
              " * @param {string} inputId Element ID of the input file picker element.\n",
              " * @param {string} outputId Element ID of the output display.\n",
              " * @return {!Iterable<!Object>} Iterable of next steps.\n",
              " */\n",
              "function* uploadFilesStep(inputId, outputId) {\n",
              "  const inputElement = document.getElementById(inputId);\n",
              "  inputElement.disabled = false;\n",
              "\n",
              "  const outputElement = document.getElementById(outputId);\n",
              "  outputElement.innerHTML = '';\n",
              "\n",
              "  const pickedPromise = new Promise((resolve) => {\n",
              "    inputElement.addEventListener('change', (e) => {\n",
              "      resolve(e.target.files);\n",
              "    });\n",
              "  });\n",
              "\n",
              "  const cancel = document.createElement('button');\n",
              "  inputElement.parentElement.appendChild(cancel);\n",
              "  cancel.textContent = 'Cancel upload';\n",
              "  const cancelPromise = new Promise((resolve) => {\n",
              "    cancel.onclick = () => {\n",
              "      resolve(null);\n",
              "    };\n",
              "  });\n",
              "\n",
              "  // Wait for the user to pick the files.\n",
              "  const files = yield {\n",
              "    promise: Promise.race([pickedPromise, cancelPromise]),\n",
              "    response: {\n",
              "      action: 'starting',\n",
              "    }\n",
              "  };\n",
              "\n",
              "  cancel.remove();\n",
              "\n",
              "  // Disable the input element since further picks are not allowed.\n",
              "  inputElement.disabled = true;\n",
              "\n",
              "  if (!files) {\n",
              "    return {\n",
              "      response: {\n",
              "        action: 'complete',\n",
              "      }\n",
              "    };\n",
              "  }\n",
              "\n",
              "  for (const file of files) {\n",
              "    const li = document.createElement('li');\n",
              "    li.append(span(file.name, {fontWeight: 'bold'}));\n",
              "    li.append(span(\n",
              "        `(${file.type || 'n/a'}) - ${file.size} bytes, ` +\n",
              "        `last modified: ${\n",
              "            file.lastModifiedDate ? file.lastModifiedDate.toLocaleDateString() :\n",
              "                                    'n/a'} - `));\n",
              "    const percent = span('0% done');\n",
              "    li.appendChild(percent);\n",
              "\n",
              "    outputElement.appendChild(li);\n",
              "\n",
              "    const fileDataPromise = new Promise((resolve) => {\n",
              "      const reader = new FileReader();\n",
              "      reader.onload = (e) => {\n",
              "        resolve(e.target.result);\n",
              "      };\n",
              "      reader.readAsArrayBuffer(file);\n",
              "    });\n",
              "    // Wait for the data to be ready.\n",
              "    let fileData = yield {\n",
              "      promise: fileDataPromise,\n",
              "      response: {\n",
              "        action: 'continue',\n",
              "      }\n",
              "    };\n",
              "\n",
              "    // Use a chunked sending to avoid message size limits. See b/62115660.\n",
              "    let position = 0;\n",
              "    do {\n",
              "      const length = Math.min(fileData.byteLength - position, MAX_PAYLOAD_SIZE);\n",
              "      const chunk = new Uint8Array(fileData, position, length);\n",
              "      position += length;\n",
              "\n",
              "      const base64 = btoa(String.fromCharCode.apply(null, chunk));\n",
              "      yield {\n",
              "        response: {\n",
              "          action: 'append',\n",
              "          file: file.name,\n",
              "          data: base64,\n",
              "        },\n",
              "      };\n",
              "\n",
              "      let percentDone = fileData.byteLength === 0 ?\n",
              "          100 :\n",
              "          Math.round((position / fileData.byteLength) * 100);\n",
              "      percent.textContent = `${percentDone}% done`;\n",
              "\n",
              "    } while (position < fileData.byteLength);\n",
              "  }\n",
              "\n",
              "  // All done.\n",
              "  yield {\n",
              "    response: {\n",
              "      action: 'complete',\n",
              "    }\n",
              "  };\n",
              "}\n",
              "\n",
              "scope.google = scope.google || {};\n",
              "scope.google.colab = scope.google.colab || {};\n",
              "scope.google.colab._files = {\n",
              "  _uploadFiles,\n",
              "  _uploadFilesContinue,\n",
              "};\n",
              "})(self);\n",
              "</script> "
            ]
          },
          "metadata": {}
        },
        {
          "output_type": "stream",
          "name": "stdout",
          "text": [
            "Saving vinh.jpg to vinh.jpg\n"
          ]
        }
      ],
      "source": [
        "from google.colab import files\n",
        "upload = files.upload()"
      ]
    },
    {
      "cell_type": "markdown",
      "source": [
        "Next we will upload the file to our instance, and convert it to a numerical array:"
      ],
      "metadata": {
        "id": "uFuDG1UEdVjb"
      }
    },
    {
      "cell_type": "code",
      "execution_count": null,
      "metadata": {
        "colab": {
          "base_uri": "https://localhost:8080/"
        },
        "id": "2JZ6OZnUSTVc",
        "outputId": "dba5767a-d265-465c-97a7-3834aa5c7660"
      },
      "outputs": [
        {
          "output_type": "stream",
          "name": "stderr",
          "text": [
            "<ipython-input-3-141f8dd6df2d>:4: DeprecationWarning: Starting with ImageIO v3 the behavior of this function will switch to that of iio.v3.imread. To keep the current behavior (and make this warning disappear) use `import imageio.v2 as imageio` or call `imageio.v2.imread` directly.\n",
            "  image_im = imageio.imread('vinh.jpg')\n"
          ]
        }
      ],
      "source": [
        "import imageio\n",
        "import numpy as np\n",
        "\n",
        "image_im = imageio.imread('vinh.jpg')\n",
        "\n",
        "# because images are a collection of pixels that have a value between\n",
        "# 0 (for white) and 255 (black), we divided by 255 to return as\n",
        "# a decimal value (e.g. 0 is white and 1 is full colour)\n",
        "target_im = np.asarray(image_im/255, dtype=np.float32)"
      ]
    },
    {
      "cell_type": "markdown",
      "source": [
        "Ignore the \"DepreciationWarning\". Let's print to screen to see what our target is:"
      ],
      "metadata": {
        "id": "RPOxcpqUdhuv"
      }
    },
    {
      "cell_type": "code",
      "source": [
        "import matplotlib.pyplot as plt\n",
        "\n",
        "plt.imshow(image_im, cmap='gray', vmin=0, vmax=255)"
      ],
      "metadata": {
        "colab": {
          "base_uri": "https://localhost:8080/",
          "height": 451
        },
        "id": "dEgraPv1iXIH",
        "outputId": "ad570adb-3004-4d03-f18e-9eff331e7148"
      },
      "execution_count": null,
      "outputs": [
        {
          "output_type": "execute_result",
          "data": {
            "text/plain": [
              "<matplotlib.image.AxesImage at 0x7e1490614a50>"
            ]
          },
          "metadata": {},
          "execution_count": 4
        },
        {
          "output_type": "display_data",
          "data": {
            "text/plain": [
              "<Figure size 640x480 with 1 Axes>"
            ],
            "image/png": "[encoded data removed]"
          },
          "metadata": {}
        }
      ]
    },
    {
      "cell_type": "markdown",
      "source": [
        "Now we will specify a couple of functions to convert the image to a vector (i.e. from a 3d image to a 1d array of numbers) and back again. Do not worry about the code here, its quite domain specific and not super-transferable to other analytics workloads."
      ],
      "metadata": {
        "id": "jdOL3wiPiXax"
      }
    },
    {
      "cell_type": "code",
      "execution_count": null,
      "metadata": {
        "id": "aSp4SBILSoBf"
      },
      "outputs": [],
      "source": [
        "import functools\n",
        "import operator\n",
        "\n",
        "def img2chromosome(img_arr):\n",
        "    \"\"\"\n",
        "    Represents the image as a 1D vector.\n",
        "\n",
        "    img_arr: The image to be converted into a vector.\n",
        "\n",
        "    Returns the vector.\n",
        "    \"\"\"\n",
        "\n",
        "    return np.reshape(a=img_arr, newshape=(functools.reduce(operator.mul, img_arr.shape)))\n",
        "\n",
        "def chromosome2img(vector, shape):\n",
        "    \"\"\"\n",
        "    Converts a 1D vector into an array.\n",
        "\n",
        "    vector: The vector to be converted into an array.\n",
        "    shape: The shape of the target array.\n",
        "\n",
        "    Returns the array.\n",
        "    \"\"\"\n",
        "\n",
        "    # Check if the vector can be reshaped according to the specified shape.\n",
        "    if len(vector) != functools.reduce(operator.mul, shape):\n",
        "        raise ValueError(f\"A vector of length {len(vector)} into an array of shape {shape}.\")\n",
        "\n",
        "    return np.reshape(a=vector, newshape=shape)"
      ]
    },
    {
      "cell_type": "markdown",
      "source": [
        "Next we need to specify our _fitness\\_function_ for our GA model - i.e. the measure of success for our algorithm as we evaluate our progress:"
      ],
      "metadata": {
        "id": "kfFbdAFpd7PN"
      }
    },
    {
      "cell_type": "code",
      "execution_count": null,
      "metadata": {
        "id": "IhZrCUIvSfO-"
      },
      "outputs": [],
      "source": [
        "import cupy as cp  # Import CuPy for GPU\n",
        "\n",
        "# convert the image of Vinh to a vector using the above function\n",
        "target_chromosome = img2chromosome(target_im)\n",
        "\n",
        "# the fitness function\n",
        "# take an proposed solution (model output) and the actual solution\n",
        "# take the absolute value from subtracting one from the other\n",
        "def fitness_fun(ga_instance, solution, solution_idx):\n",
        "    # Convert arrays to CuPy arrays\n",
        "    target_chromosome_gpu = cp.asarray(target_chromosome)\n",
        "    solution_gpu = cp.asarray(solution)\n",
        "\n",
        "    # Perform calculations on GPU. cp.abs gets the absolute value\n",
        "    fitness = cp.sum(cp.abs(target_chromosome_gpu - solution_gpu))\n",
        "    fitness = cp.sum(target_chromosome_gpu) - fitness # change to maximisation\n",
        "\n",
        "    # Return fitness as a regular NumPy scalar\n",
        "    return fitness.get()"
      ]
    },
    {
      "cell_type": "markdown",
      "source": [
        "Next we need to specify our GA and its hyperparameters:"
      ],
      "metadata": {
        "id": "LBpeV6wggD1p"
      }
    },
    {
      "cell_type": "code",
      "execution_count": null,
      "metadata": {
        "id": "BvxsQ9uySuaq"
      },
      "outputs": [],
      "source": [
        "import pygad\n",
        "\n",
        "# hyperparameters\n",
        "init_range_low = 0 # minimum value of a pixel is 0\n",
        "init_range_high = 255 # max value is 255\n",
        "mutation_by_replacement = True # replace values rather than add to them\n",
        "random_mutation_min_val= 0 # values should still be 0-255 after mutation\n",
        "random_mutation_max_val= 255\n",
        "\n",
        "# specify the GA approach.\n",
        "ga_instance = pygad.GA(fitness_func=fitness_fun, # specified above\n",
        "                      num_generations=25000, # total number of runs\n",
        "                      sol_per_pop=100, #  chromosones each generation\n",
        "                      num_parents_mating=20, # top 20 parents mate\n",
        "                      num_genes=target_im.size, # size of each guess/chromosone to match orginal image\n",
        "                      init_range_low=init_range_low, # specified above\n",
        "                      init_range_high=init_range_high, # needs to be specified\n",
        "                      mutation_percent_genes=0.05, # 5% chance of genes mutatation\n",
        "                      mutation_by_replacement=mutation_by_replacement, # specified above\n",
        "                      random_mutation_min_val=random_mutation_min_val, # specified above\n",
        "                      random_mutation_max_val=random_mutation_max_val) # specified above"
      ]
    },
    {
      "cell_type": "markdown",
      "source": [
        "Now we can run the algorithm - may take a long time!"
      ],
      "metadata": {
        "id": "mPl5PRyDgJQx"
      }
    },
    {
      "cell_type": "code",
      "execution_count": null,
      "metadata": {
        "id": "6u13hEyNUN5z"
      },
      "outputs": [],
      "source": [
        "ga_instance.run()"
      ]
    },
    {
      "cell_type": "markdown",
      "source": [
        "Now our model has converged - let's display the results:"
      ],
      "metadata": {
        "id": "hif5Z_N4gOMZ"
      }
    },
    {
      "cell_type": "code",
      "source": [
        "ga_instance.plot_fitness()"
      ],
      "metadata": {
        "id": "IUpF-3IRgTEV"
      },
      "execution_count": null,
      "outputs": []
    },
    {
      "cell_type": "markdown",
      "source": [
        "We can see fitness progress. _N.B. we could/should have gone further but time is limited in a Lecture-Workshop_\n",
        "\n",
        "Now let's look at some further results and our final generated image:"
      ],
      "metadata": {
        "id": "vghj_-pMg-C3"
      }
    },
    {
      "cell_type": "code",
      "execution_count": null,
      "metadata": {
        "id": "EQme1knGltfu"
      },
      "outputs": [],
      "source": [
        "# Returning the details of the best solution.\n",
        "solution, solution_fitness, solution_idx = ga_instance.best_solution()\n",
        "print(f\"Fitness value of the best solution = {solution_fitness}\")\n",
        "print(f\"Index of the best solution : {solution_idx}\")\n",
        "\n",
        "# print the generation that produced the best solution\n",
        "if ga_instance.best_solution_generation != -1:\n",
        "    print(f\"Best fitness value reached after {ga_instance.best_solution_generation} generations.\")\n",
        "\n",
        "# scale solution to int\n",
        "solution = np.array(solution, dtype=int)\n",
        "\n",
        "# convert solution to an image using the earlier function\n",
        "result = chromosome2img(solution, target_im.shape)\n",
        "\n",
        "# plot the solution photo to screen\n",
        "plt.imshow(result, cmap='gray', vmin=0, vmax=255)\n",
        "plt.title(\"A Lovely Photo of Vinh\")\n",
        "plt.show()"
      ]
    },
    {
      "cell_type": "markdown",
      "source": [
        "Getting there - but not quite yet. If you want to try some more generations in your own time then you may get something even better! 😺"
      ],
      "metadata": {
        "id": "lcCua2GwhUaA"
      }
    }
  ],
  "metadata": {
    "accelerator": "GPU",
    "colab": {
      "gpuType": "T4",
      "provenance": [],
      "include_colab_link": true
    },
    "kernelspec": {
      "display_name": "Python 3",
      "name": "python3"
    },
    "language_info": {
      "name": "python"
    }
  },
  "nbformat": 4,
  "nbformat_minor": 0
}